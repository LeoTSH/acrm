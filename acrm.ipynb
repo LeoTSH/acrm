{
 "cells": [
  {
   "cell_type": "code",
   "execution_count": 1,
   "metadata": {},
   "outputs": [],
   "source": [
    "import unicodedata, string, requests, pandas as pd\n",
    "from time import time, sleep\n",
    "from selenium import webdriver\n",
    "from bs4 import BeautifulSoup"
   ]
  },
  {
   "cell_type": "code",
   "execution_count": 2,
   "metadata": {},
   "outputs": [],
   "source": [
    "def get_info(url, search_params, is_individual):\n",
    "    agent_company = []\n",
    "    \n",
    "    for param in search_params:\n",
    "        driver = webdriver.Chrome('./chromedriver.exe')\n",
    "        driver.get(url)\n",
    "\n",
    "        if is_individual:\n",
    "            driver.find_element_by_xpath('//*[@id=\"rbl_SearchType_0\"]').click()\n",
    "            driver.find_element_by_xpath('//*[@id=\"ddl_SearchCriteria\"]').send_keys('Agent Name')\n",
    "        else:\n",
    "            driver.find_element_by_xpath('//*[@id=\"rbl_SearchType_1\"]').click()\n",
    "            driver.find_element_by_xpath('//*[@id=\"ddl_SearchCriteria\"]').send_keys('Company Name')\n",
    "            \n",
    "        driver.find_element_by_xpath('//*[@id=\"txt_SearchValue\"]').send_keys(param)\n",
    "        driver.find_element_by_xpath('//*[@id=\"btnSearch\"]').click()\n",
    "        sleep(1)\n",
    "\n",
    "        result_html = driver.page_source\n",
    "        driver.quit()\n",
    "\n",
    "        results = BeautifulSoup(markup=result_html, features='html.parser')\n",
    "        for table_data in results.find_all('tr', {'class':['griditem', 'gridalternatingitem']}):\n",
    "            data = {\n",
    "                'GIA No.': table_data('td')[0].text.strip(),\n",
    "                'Name': table_data('td')[1].text.strip()\n",
    "            }\n",
    "            agent_company.append(data)\n",
    "    \n",
    "    agent_company_df = pd.DataFrame(agent_company)\n",
    "    agent_company_df.drop_duplicates(inplace=True)\n",
    "    \n",
    "    return agent_company_df\n",
    "\n",
    "def get_tsa(url, search_params):\n",
    "    tsa = []\n",
    "\n",
    "    for param in search_params:\n",
    "        driver = webdriver.Chrome('./chromedriver.exe')\n",
    "        driver.get(url)\n",
    "        driver.find_element_by_xpath('//*[@id=\"ddlTSA\"]').send_keys(param)\n",
    "        sleep(1)\n",
    "        result_html = driver.page_source\n",
    "        driver.quit()\n",
    "\n",
    "        results = BeautifulSoup(result_html, 'html.parser')\n",
    "\n",
    "        for info in results.find_all('table', {'id':['dgAgentsList']}):\n",
    "            for table_data in info.find_all('tr', {'class':['griditem','gridalternatingitem']}):\n",
    "                data = {\n",
    "                    'GIA No.':table_data('td')[0].text.strip(),\n",
    "                    'Business Reg. No.':table_data('td')[1].text.strip(),\n",
    "                    'Company Name':table_data('td')[2].text.strip(),\n",
    "                    'Trade Type':param\n",
    "                    }\n",
    "                tsa.append(data)\n",
    "\n",
    "    tsa_df = pd.DataFrame(tsa)\n",
    "    tsa_df.drop_duplicates(inplace=True) \n",
    "    \n",
    "    return tsa_df\n",
    "\n",
    "def get_profile(url, gia_no):\n",
    "    a_info = []\n",
    "    n_info = []\n",
    "    \n",
    "    url = url+str(gia_no)\n",
    "    req = requests.Session()\n",
    "    sess = req.get(url)    \n",
    "    content = BeautifulSoup(sess.content, 'html.parser')\n",
    "\n",
    "    id_tag = ['AgentInfor_lblGIANoDetails', 'AgentInfor_lblAgentNameDetails', 'AgentInfor_lblAgentTypeDetails', \\\n",
    "                  'AgentInfor_lblTradeSpecificDetails', 'PrincipalInfor_lblPrincipalDetails']\n",
    "        \n",
    "    for data in content.find_all('table', {'id':['table1', 'table2']}):\n",
    "        for info in data.find_all('span', {'id':id_tag}):\n",
    "            a_info.append(unicodedata.normalize('NFKD', info.text.strip()))\n",
    "\n",
    "    for data in content.find_all('tr', {'id':['trNomineeRecords']}):\n",
    "        for info in data.find_all('tr', {'class':['griditem', 'gridalternatingitem']}):\n",
    "            n_info.append(unicodedata.normalize('NFKD', info.text.strip()))\n",
    "\n",
    "    return a_info, n_info\n",
    "\n",
    "def check_text(text):\n",
    "    text = text.replace('dP', 'd, P')  \n",
    "    text = text.replace('d.P', 'd, P')\n",
    "    text = text.replace('DP', 'D, P')\n",
    "    text = text.replace('D.P', 'D, P')\n",
    "    text = text.replace('hS', 'h. S')\n",
    "    text = text.replace('tS', 't. S')    \n",
    "    \n",
    "    return text.replace('Non-', ', Non-')"
   ]
  },
  {
   "cell_type": "markdown",
   "metadata": {},
   "source": [
    "# Individual Agent Information"
   ]
  },
  {
   "cell_type": "code",
   "execution_count": 3,
   "metadata": {},
   "outputs": [
    {
     "name": "stdout",
     "output_type": "stream",
     "text": [
      "Time taken: 245.8126244544983\n",
      "10782\n"
     ]
    }
   ],
   "source": [
    "search_params = list(string.ascii_lowercase)\n",
    "url = 'https://www.arcm.com.sg/App/UI/Common/SearchAgentInfor.aspx?strApplicationType=SearchNominee'\n",
    "\n",
    "start = time()\n",
    "agents_df = get_info(url=url, search_params=search_params, is_individual=True)\n",
    "print('Time taken: {}'.format(time() - start))\n",
    "print(len(agents_df))"
   ]
  },
  {
   "cell_type": "code",
   "execution_count": 4,
   "metadata": {},
   "outputs": [
    {
     "data": {
      "text/html": [
       "<div>\n",
       "<style scoped>\n",
       "    .dataframe tbody tr th:only-of-type {\n",
       "        vertical-align: middle;\n",
       "    }\n",
       "\n",
       "    .dataframe tbody tr th {\n",
       "        vertical-align: top;\n",
       "    }\n",
       "\n",
       "    .dataframe thead th {\n",
       "        text-align: right;\n",
       "    }\n",
       "</style>\n",
       "<table border=\"1\" class=\"dataframe\">\n",
       "  <thead>\n",
       "    <tr style=\"text-align: right;\">\n",
       "      <th></th>\n",
       "      <th>GIA No.</th>\n",
       "      <th>Name</th>\n",
       "    </tr>\n",
       "  </thead>\n",
       "  <tbody>\n",
       "    <tr>\n",
       "      <th>0</th>\n",
       "      <td>C005180</td>\n",
       "      <td>ALICIA ENG SIMIN</td>\n",
       "    </tr>\n",
       "    <tr>\n",
       "      <th>1</th>\n",
       "      <td>A004917</td>\n",
       "      <td>ANG HUI PING (HONG HUIPING)</td>\n",
       "    </tr>\n",
       "    <tr>\n",
       "      <th>2</th>\n",
       "      <td>C005151</td>\n",
       "      <td>Ang Wee Long</td>\n",
       "    </tr>\n",
       "    <tr>\n",
       "      <th>3</th>\n",
       "      <td>C001053</td>\n",
       "      <td>BRYAN ANDRE PAKIAM</td>\n",
       "    </tr>\n",
       "    <tr>\n",
       "      <th>4</th>\n",
       "      <td>A028403</td>\n",
       "      <td>CANDY GOH SIU PING</td>\n",
       "    </tr>\n",
       "  </tbody>\n",
       "</table>\n",
       "</div>"
      ],
      "text/plain": [
       "   GIA No.                         Name\n",
       "0  C005180             ALICIA ENG SIMIN\n",
       "1  A004917  ANG HUI PING (HONG HUIPING)\n",
       "2  C005151                 Ang Wee Long\n",
       "3  C001053           BRYAN ANDRE PAKIAM\n",
       "4  A028403           CANDY GOH SIU PING"
      ]
     },
     "execution_count": 4,
     "metadata": {},
     "output_type": "execute_result"
    }
   ],
   "source": [
    "agents_df.head(5)"
   ]
  },
  {
   "cell_type": "code",
   "execution_count": 5,
   "metadata": {},
   "outputs": [],
   "source": [
    "agents_df.to_excel('./individual.xlsx', index=False)\n",
    "agents_df = pd.read_excel('./individual.xlsx')"
   ]
  },
  {
   "cell_type": "code",
   "execution_count": 6,
   "metadata": {
    "scrolled": true
   },
   "outputs": [
    {
     "name": "stdout",
     "output_type": "stream",
     "text": [
      "1 out of 10782 done.\n",
      "1001 out of 10782 done.\n",
      "2001 out of 10782 done.\n",
      "3001 out of 10782 done.\n",
      "4001 out of 10782 done.\n",
      "5001 out of 10782 done.\n",
      "6001 out of 10782 done.\n",
      "7001 out of 10782 done.\n",
      "8001 out of 10782 done.\n",
      "9001 out of 10782 done.\n",
      "10001 out of 10782 done.\n",
      "Time taken: 2483.567063331604\n"
     ]
    }
   ],
   "source": [
    "url = 'https://www.arcm.com.sg/App/UI/Common/SearchAgentInfoDetails.aspx?GIANo='\n",
    "agent_profile = []\n",
    "\n",
    "start = time()\n",
    "for e in range(len(agents_df)):\n",
    "    d, n = get_profile(url=url, gia_no=agents_df['GIA No.'][e])\n",
    "    data = {\n",
    "        'Agent No':d[0],\n",
    "        'Agency Name':d[1],\n",
    "        'Type Of Trade':d[2],\n",
    "        \"Agent's principal\":check_text(d[3]),\n",
    "        'Nominee(s) Information':[check_text(text) for text in n]\n",
    "    }\n",
    "    agent_profile.append(data)\n",
    "    if e % 1000 == 0:\n",
    "        print('{} out of {} done.'.format(e+1, len(agents_df)))\n",
    "print('Time taken: {}'.format(time() - start))"
   ]
  },
  {
   "cell_type": "code",
   "execution_count": 7,
   "metadata": {},
   "outputs": [
    {
     "data": {
      "text/plain": [
       "10782"
      ]
     },
     "execution_count": 7,
     "metadata": {},
     "output_type": "execute_result"
    }
   ],
   "source": [
    "agent_profile_df = pd.DataFrame(agent_profile)\n",
    "len(agent_profile_df)"
   ]
  },
  {
   "cell_type": "code",
   "execution_count": 8,
   "metadata": {},
   "outputs": [],
   "source": [
    "agent_profile_df.to_excel('individual_details.xlsx', index=False)\n",
    "individual = agents_df.join(other=agent_profile_df, how='left')\n",
    "individual.to_excel('./individual_information.xlsx', index=False)"
   ]
  },
  {
   "cell_type": "markdown",
   "metadata": {},
   "source": [
    "# Corporate Information"
   ]
  },
  {
   "cell_type": "code",
   "execution_count": 9,
   "metadata": {},
   "outputs": [
    {
     "name": "stdout",
     "output_type": "stream",
     "text": [
      "Time taken: 216.8821256160736\n",
      "2500\n"
     ]
    }
   ],
   "source": [
    "url = 'https://www.arcm.com.sg/App/UI/Common/SearchAgentInfor.aspx?strApplicationType=SearchNominee'\n",
    "\n",
    "start = time()\n",
    "corporate_df = get_info(url=url, search_params=search_params, is_individual=False)\n",
    "print('Time taken: {}'.format(time() - start))\n",
    "print(len(corporate_df))"
   ]
  },
  {
   "cell_type": "code",
   "execution_count": 10,
   "metadata": {},
   "outputs": [
    {
     "data": {
      "text/html": [
       "<div>\n",
       "<style scoped>\n",
       "    .dataframe tbody tr th:only-of-type {\n",
       "        vertical-align: middle;\n",
       "    }\n",
       "\n",
       "    .dataframe tbody tr th {\n",
       "        vertical-align: top;\n",
       "    }\n",
       "\n",
       "    .dataframe thead th {\n",
       "        text-align: right;\n",
       "    }\n",
       "</style>\n",
       "<table border=\"1\" class=\"dataframe\">\n",
       "  <thead>\n",
       "    <tr style=\"text-align: right;\">\n",
       "      <th></th>\n",
       "      <th>GIA No.</th>\n",
       "      <th>Name</th>\n",
       "    </tr>\n",
       "  </thead>\n",
       "  <tbody>\n",
       "    <tr>\n",
       "      <th>0</th>\n",
       "      <td>C005544</td>\n",
       "      <td>1 Accurate Auto</td>\n",
       "    </tr>\n",
       "    <tr>\n",
       "      <th>1</th>\n",
       "      <td>C004619</td>\n",
       "      <td>1 ALTITUDE AGENCY</td>\n",
       "    </tr>\n",
       "    <tr>\n",
       "      <th>2</th>\n",
       "      <td>C004596</td>\n",
       "      <td>1 ASIA MANPOWER SERVICES</td>\n",
       "    </tr>\n",
       "    <tr>\n",
       "      <th>3</th>\n",
       "      <td>C004508</td>\n",
       "      <td>1 ASSIST AGENCY</td>\n",
       "    </tr>\n",
       "    <tr>\n",
       "      <th>4</th>\n",
       "      <td>C005002</td>\n",
       "      <td>1 INTEGRATED CARE PTE LTD</td>\n",
       "    </tr>\n",
       "  </tbody>\n",
       "</table>\n",
       "</div>"
      ],
      "text/plain": [
       "   GIA No.                       Name\n",
       "0  C005544            1 Accurate Auto\n",
       "1  C004619          1 ALTITUDE AGENCY\n",
       "2  C004596   1 ASIA MANPOWER SERVICES\n",
       "3  C004508            1 ASSIST AGENCY\n",
       "4  C005002  1 INTEGRATED CARE PTE LTD"
      ]
     },
     "execution_count": 10,
     "metadata": {},
     "output_type": "execute_result"
    }
   ],
   "source": [
    "corporate_df.head(5)"
   ]
  },
  {
   "cell_type": "code",
   "execution_count": 11,
   "metadata": {},
   "outputs": [],
   "source": [
    "corporate_df.to_excel('./corporate.xlsx', index=False)\n",
    "corporate_df = pd.read_excel('./corporate.xlsx')"
   ]
  },
  {
   "cell_type": "code",
   "execution_count": 12,
   "metadata": {},
   "outputs": [
    {
     "name": "stdout",
     "output_type": "stream",
     "text": [
      "1 out of 2500 done.\n",
      "1001 out of 2500 done.\n",
      "2001 out of 2500 done.\n",
      "Time taken: 355.05066752433777\n"
     ]
    }
   ],
   "source": [
    "url = 'https://www.arcm.com.sg/App/UI/Common/SearchAgentInfoDetails.aspx?GIANo='\n",
    "corporate_profile = []\n",
    "\n",
    "start = time()\n",
    "for e in range(len(corporate_df)):\n",
    "    d, n = get_profile(url=url, gia_no=corporate_df['GIA No.'][e])\n",
    "    data = {\n",
    "        'Agent No':d[0],\n",
    "        'Company Name':d[1],\n",
    "        'Type Of Trade':d[2],\n",
    "        \"Agent's principal\":check_text(d[3]),\n",
    "        'Nominee(s) Information':[check_text(text) for text in n]\n",
    "    }\n",
    "    corporate_profile.append(data)\n",
    "    if e % 1000 == 0:\n",
    "        print('{} out of {} done.'.format(e+1, len(corporate_df)))\n",
    "print('Time taken: {}'.format(time() - start))"
   ]
  },
  {
   "cell_type": "code",
   "execution_count": 13,
   "metadata": {},
   "outputs": [
    {
     "data": {
      "text/plain": [
       "2500"
      ]
     },
     "execution_count": 13,
     "metadata": {},
     "output_type": "execute_result"
    }
   ],
   "source": [
    "corporate_profile_df = pd.DataFrame(corporate_profile)\n",
    "len(corporate_profile_df)"
   ]
  },
  {
   "cell_type": "code",
   "execution_count": 14,
   "metadata": {},
   "outputs": [],
   "source": [
    "corporate_profile_df.to_excel('corporate_details.xlsx', index=False)\n",
    "corporate = corporate_df.join(other=corporate_profile_df, how='left')\n",
    "corporate.to_excel('./corporate_information.xlsx', index=False)"
   ]
  },
  {
   "cell_type": "markdown",
   "metadata": {},
   "source": [
    "# Get TSA "
   ]
  },
  {
   "cell_type": "code",
   "execution_count": 15,
   "metadata": {},
   "outputs": [
    {
     "name": "stdout",
     "output_type": "stream",
     "text": [
      "Time taken: 62.986576080322266\n"
     ]
    }
   ],
   "source": [
    "tsa_params = ['Card Protection Insurance', 'Electrical Protection Insurance', 'Freight Forwarders', \\\n",
    "              'Foreign Worker Agencies', 'Handphone Dealers', 'Maid Agencies', 'Motor Dealers', \\\n",
    "              'Maid Agencies + Foreign Worker Agencies', 'Travel Agents']\n",
    "\n",
    "url = 'https://www.arcm.com.sg/App/UI/Common/TSA.aspx'\n",
    "\n",
    "start = time()\n",
    "tsa_df = get_tsa(url=url, search_params=tsa_params)\n",
    "print('Time taken: {}'.format(time() - start))"
   ]
  },
  {
   "cell_type": "code",
   "execution_count": 16,
   "metadata": {},
   "outputs": [
    {
     "data": {
      "text/html": [
       "<div>\n",
       "<style scoped>\n",
       "    .dataframe tbody tr th:only-of-type {\n",
       "        vertical-align: middle;\n",
       "    }\n",
       "\n",
       "    .dataframe tbody tr th {\n",
       "        vertical-align: top;\n",
       "    }\n",
       "\n",
       "    .dataframe thead th {\n",
       "        text-align: right;\n",
       "    }\n",
       "</style>\n",
       "<table border=\"1\" class=\"dataframe\">\n",
       "  <thead>\n",
       "    <tr style=\"text-align: right;\">\n",
       "      <th></th>\n",
       "      <th>Business Reg. No.</th>\n",
       "      <th>Company Name</th>\n",
       "      <th>GIA No.</th>\n",
       "      <th>Trade Type</th>\n",
       "    </tr>\n",
       "  </thead>\n",
       "  <tbody>\n",
       "    <tr>\n",
       "      <th>0</th>\n",
       "      <td>198203595R</td>\n",
       "      <td>KAMIGUMI (S) PTE LTD</td>\n",
       "      <td>C001197</td>\n",
       "      <td>Freight Forwarders</td>\n",
       "    </tr>\n",
       "    <tr>\n",
       "      <th>1</th>\n",
       "      <td>197702167W</td>\n",
       "      <td>Panalpina World Transport (Singapore) Pte Ltd</td>\n",
       "      <td>C005218</td>\n",
       "      <td>Freight Forwarders</td>\n",
       "    </tr>\n",
       "    <tr>\n",
       "      <th>2</th>\n",
       "      <td>199506592H</td>\n",
       "      <td>Schenker (Asia Pacific) Pte Ltd</td>\n",
       "      <td>C005119</td>\n",
       "      <td>Freight Forwarders</td>\n",
       "    </tr>\n",
       "    <tr>\n",
       "      <th>3</th>\n",
       "      <td>197000914Z</td>\n",
       "      <td>Schenker Singapore (Pte) Ltd</td>\n",
       "      <td>C004625</td>\n",
       "      <td>Freight Forwarders</td>\n",
       "    </tr>\n",
       "    <tr>\n",
       "      <th>4</th>\n",
       "      <td>53163757C</td>\n",
       "      <td>AAKA NETWORK RESOURCES</td>\n",
       "      <td>C005213</td>\n",
       "      <td>Foreign Worker Agencies</td>\n",
       "    </tr>\n",
       "  </tbody>\n",
       "</table>\n",
       "</div>"
      ],
      "text/plain": [
       "  Business Reg. No.                                   Company Name  GIA No.  \\\n",
       "0        198203595R                           KAMIGUMI (S) PTE LTD  C001197   \n",
       "1        197702167W  Panalpina World Transport (Singapore) Pte Ltd  C005218   \n",
       "2        199506592H                Schenker (Asia Pacific) Pte Ltd  C005119   \n",
       "3        197000914Z                   Schenker Singapore (Pte) Ltd  C004625   \n",
       "4         53163757C                         AAKA NETWORK RESOURCES  C005213   \n",
       "\n",
       "                Trade Type  \n",
       "0       Freight Forwarders  \n",
       "1       Freight Forwarders  \n",
       "2       Freight Forwarders  \n",
       "3       Freight Forwarders  \n",
       "4  Foreign Worker Agencies  "
      ]
     },
     "execution_count": 16,
     "metadata": {},
     "output_type": "execute_result"
    }
   ],
   "source": [
    "tsa_df.head(5)"
   ]
  },
  {
   "cell_type": "code",
   "execution_count": 17,
   "metadata": {},
   "outputs": [],
   "source": [
    "tsa_df.to_excel('./tsa.xlsx', index=False)\n",
    "tsa_df = pd.read_excel('./tsa.xlsx')"
   ]
  },
  {
   "cell_type": "code",
   "execution_count": 18,
   "metadata": {},
   "outputs": [
    {
     "name": "stdout",
     "output_type": "stream",
     "text": [
      "1412\n"
     ]
    }
   ],
   "source": [
    "print(len(tsa_df))"
   ]
  },
  {
   "cell_type": "code",
   "execution_count": 19,
   "metadata": {},
   "outputs": [
    {
     "name": "stdout",
     "output_type": "stream",
     "text": [
      "1 out of 1412 done.\n",
      "1001 out of 1412 done.\n",
      "Time taken: 250.48258805274963\n"
     ]
    }
   ],
   "source": [
    "url = 'https://www.arcm.com.sg/App/UI/Common/SearchAgentInfoDetails.aspx?GIANo='\n",
    "profile = []\n",
    "\n",
    "start = time()\n",
    "for e in range(len(tsa_df)):\n",
    "    d, n = get_profile(url=url, gia_no=tsa_df['GIA No.'][e])\n",
    "    data = {\n",
    "        'Agent No':d[0],\n",
    "        'Company':d[1],\n",
    "        'Type Of Trade':d[2],\n",
    "        \"Agent's principal\":check_text(d[3]),\n",
    "        'Nominee(s) Information':[check_text(text) for text in n]\n",
    "    }\n",
    "    profile.append(data)\n",
    "    if e % 1000 == 0:\n",
    "        print('{} out of {} done.'.format(e+1, len(tsa_df)))\n",
    "print('Time taken: {}'.format(time() - start))"
   ]
  },
  {
   "cell_type": "code",
   "execution_count": 20,
   "metadata": {},
   "outputs": [
    {
     "data": {
      "text/plain": [
       "1412"
      ]
     },
     "execution_count": 20,
     "metadata": {},
     "output_type": "execute_result"
    }
   ],
   "source": [
    "tsa_profile_df = pd.DataFrame(profile)\n",
    "len(tsa_profile_df)"
   ]
  },
  {
   "cell_type": "code",
   "execution_count": 21,
   "metadata": {},
   "outputs": [],
   "source": [
    "tsa_profile_df.to_excel('tsa_details.xlsx', index=False)\n",
    "tsa = tsa_df.join(other=tsa_profile_df, how='left')\n",
    "tsa.to_excel('./tsa_information.xlsx', index=False)"
   ]
  },
  {
   "cell_type": "code",
   "execution_count": null,
   "metadata": {},
   "outputs": [],
   "source": []
  }
 ],
 "metadata": {
  "kernelspec": {
   "display_name": "Python 3",
   "language": "python",
   "name": "python3"
  },
  "language_info": {
   "codemirror_mode": {
    "name": "ipython",
    "version": 3
   },
   "file_extension": ".py",
   "mimetype": "text/x-python",
   "name": "python",
   "nbconvert_exporter": "python",
   "pygments_lexer": "ipython3",
   "version": "3.7.3"
  }
 },
 "nbformat": 4,
 "nbformat_minor": 2
}
