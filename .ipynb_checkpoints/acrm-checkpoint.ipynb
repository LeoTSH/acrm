{
 "cells": [
  {
   "cell_type": "code",
   "execution_count": 1,
   "metadata": {},
   "outputs": [],
   "source": [
    "import unicodedata, string, time, requests, pandas as pd\n",
    "from selenium import webdriver\n",
    "from bs4 import BeautifulSoup"
   ]
  },
  {
   "cell_type": "code",
   "execution_count": 18,
   "metadata": {},
   "outputs": [],
   "source": [
    "def get_individual_info(url, key):\n",
    "    temp = []\n",
    "    gia_no = []\n",
    "    agent_name = []\n",
    "\n",
    "    driver = webdriver.Chrome('./chromedriver.exe')\n",
    "    driver.get(url)\n",
    "    driver.find_element_by_xpath('//*[@id=\"rbl_SearchType_0\"]').click()\n",
    "    driver.find_element_by_xpath('//*[@id=\"ddl_SearchCriteria\"]').send_keys('Agent Name')\n",
    "    driver.find_element_by_xpath('//*[@id=\"txt_SearchValue\"]').send_keys(key)\n",
    "    driver.find_element_by_xpath('//*[@id=\"btnSearch\"]').click()\n",
    "    time.sleep(1.5)\n",
    "    \n",
    "    result_html = driver.page_source\n",
    "    driver.quit()\n",
    "\n",
    "    soup = BeautifulSoup(markup=result_html, features='html.parser')\n",
    "    for info in soup.find_all('tr', {'class':['griditem', 'gridalternatingitem']}):\n",
    "        for details in info.find_all('td'):\n",
    "            temp.append(details.text.lstrip())\n",
    "            \n",
    "    for i in range(0, len(temp), 2):       \n",
    "        gia_no.append(temp[i])\n",
    "        agent_name.append(temp[i+1])        \n",
    "    \n",
    "    return gia_no, agent_name\n",
    "\n",
    "def get_agent_details(url, gia_no):\n",
    "    a_info = []\n",
    "    n_info = []\n",
    "    \n",
    "    url = url+str(gia_no)\n",
    "    req = requests.Session()\n",
    "    sess = req.get(url)    \n",
    "    content = BeautifulSoup(sess.content, 'html.parser')\n",
    "    \n",
    "    for info in content.find_all('span', {'id':['AgentInfor_lblGIANoDetails', 'AgentInfor_lblAgentNameDetails', \\\n",
    "                                   'AgentInfor_lblAgentTypeDetails', 'AgentInfor_lblTradeSpecificDetails', \n",
    "                                   'PrincipalInfor_lblPrincipalDetails']}):\n",
    "        if info is None:\n",
    "            a_info.append('None')\n",
    "        else:\n",
    "            a_info.append(unicodedata.normalize('NFKD', info.text.strip()))\n",
    "    \n",
    "    for details in content.find_all('tr', {'class':['griditem', 'gridalternatingitem']}):\n",
    "        for deep in details.find_all('td'):\n",
    "            if deep is None:\n",
    "                n_info.append('None')\n",
    "            else:\n",
    "                n_info.append(unicodedata.normalize('NFKD', deep.text.strip()))\n",
    "            \n",
    "    return a_info, n_info\n",
    "\n",
    "def check_text(text):\n",
    "    if text.find('dP'):\n",
    "        return text.replace('dP', 'd P')        "
   ]
  },
  {
   "cell_type": "code",
   "execution_count": 3,
   "metadata": {},
   "outputs": [],
   "source": [
    "search_params = list(string.ascii_lowercase)\n",
    "url = 'https://www.arcm.com.sg/App/UI/Common/SearchAgentInfor.aspx?strApplicationType=SearchNominee'\n",
    "\n",
    "gia = []\n",
    "name = []\n",
    "\n",
    "for alpha in search_params:\n",
    "    gia_no, a_name = get_individual_info(url, alpha)\n",
    "    gia.extend(gia_no)\n",
    "    name.extend(a_name)\n",
    "    \n",
    "results = pd.DataFrame(data={'GIA No':gia, 'Agent Name':name})\n",
    "results.drop_duplicates(inplace=True)"
   ]
  },
  {
   "cell_type": "code",
   "execution_count": 4,
   "metadata": {},
   "outputs": [],
   "source": [
    "results.to_excel('./Agents.xlsx', index=False)"
   ]
  },
  {
   "cell_type": "code",
   "execution_count": 9,
   "metadata": {},
   "outputs": [],
   "source": []
  },
  {
   "cell_type": "code",
   "execution_count": 3,
   "metadata": {},
   "outputs": [],
   "source": [
    "test_df = pd.read_excel('./Agents.xlsx')"
   ]
  },
  {
   "cell_type": "code",
   "execution_count": 4,
   "metadata": {},
   "outputs": [
    {
     "data": {
      "text/html": [
       "<div>\n",
       "<style scoped>\n",
       "    .dataframe tbody tr th:only-of-type {\n",
       "        vertical-align: middle;\n",
       "    }\n",
       "\n",
       "    .dataframe tbody tr th {\n",
       "        vertical-align: top;\n",
       "    }\n",
       "\n",
       "    .dataframe thead th {\n",
       "        text-align: right;\n",
       "    }\n",
       "</style>\n",
       "<table border=\"1\" class=\"dataframe\">\n",
       "  <thead>\n",
       "    <tr style=\"text-align: right;\">\n",
       "      <th></th>\n",
       "      <th>GIA No</th>\n",
       "      <th>Agent Name</th>\n",
       "    </tr>\n",
       "  </thead>\n",
       "  <tbody>\n",
       "    <tr>\n",
       "      <th>0</th>\n",
       "      <td>A006039</td>\n",
       "      <td>A Tirumavalavan</td>\n",
       "    </tr>\n",
       "    <tr>\n",
       "      <th>1</th>\n",
       "      <td>C003300</td>\n",
       "      <td>A W FROZ KHAN NOON</td>\n",
       "    </tr>\n",
       "    <tr>\n",
       "      <th>2</th>\n",
       "      <td>C003542</td>\n",
       "      <td>Aaron Kok Kitt Loong</td>\n",
       "    </tr>\n",
       "    <tr>\n",
       "      <th>3</th>\n",
       "      <td>C005067</td>\n",
       "      <td>AARON TAN WEI CHENG</td>\n",
       "    </tr>\n",
       "    <tr>\n",
       "      <th>4</th>\n",
       "      <td>C004720</td>\n",
       "      <td>Abdul Aziz Bin Syed Sulaiman</td>\n",
       "    </tr>\n",
       "  </tbody>\n",
       "</table>\n",
       "</div>"
      ],
      "text/plain": [
       "    GIA No                    Agent Name\n",
       "0  A006039               A Tirumavalavan\n",
       "1  C003300            A W FROZ KHAN NOON\n",
       "2  C003542          Aaron Kok Kitt Loong\n",
       "3  C005067           AARON TAN WEI CHENG\n",
       "4  C004720  Abdul Aziz Bin Syed Sulaiman"
      ]
     },
     "execution_count": 4,
     "metadata": {},
     "output_type": "execute_result"
    }
   ],
   "source": [
    "test_df.head(5)"
   ]
  },
  {
   "cell_type": "code",
   "execution_count": 19,
   "metadata": {},
   "outputs": [],
   "source": [
    "test = []\n",
    "\n",
    "for e in range(10):\n",
    "    d, n = get_agent_details(url=url, gia_no=test_df['GIA No'][e])\n",
    "    data = {\n",
    "        'Agent No':d[0],\n",
    "        'Agent Name':d[1],\n",
    "        'Type Of Trade':d[2],\n",
    "        \"Agent's principal\":check_text(d[3]),\n",
    "        'Nominee(s) Information':n\n",
    "    }\n",
    "    test.append(data)"
   ]
  },
  {
   "cell_type": "code",
   "execution_count": 20,
   "metadata": {},
   "outputs": [],
   "source": [
    "pd.DataFrame(test).to_excel('wadad.xlsx', index=False)"
   ]
  },
  {
   "cell_type": "code",
   "execution_count": null,
   "metadata": {},
   "outputs": [],
   "source": []
  },
  {
   "cell_type": "code",
   "execution_count": 6,
   "metadata": {},
   "outputs": [],
   "source": [
    "url = 'https://www.arcm.com.sg/App/UI/Common/SearchAgentInfoDetails.aspx?GIANo='"
   ]
  },
  {
   "cell_type": "code",
   "execution_count": 55,
   "metadata": {},
   "outputs": [
    {
     "name": "stdout",
     "output_type": "stream",
     "text": [
      "Tan Catherine\n",
      "Non-Life (General Insurance Agents)\n",
      "Tan Chek Hwen, Justin\n",
      "Non-Life (General Insurance Agents)\n",
      " ANG HUI PING (HONG HUIPING)\n",
      "Non-Life (General Insurance Agents)\n"
     ]
    }
   ],
   "source": [
    "x,y = get_agent_details(url=url, gia_no='A004917')"
   ]
  },
  {
   "cell_type": "code",
   "execution_count": 56,
   "metadata": {},
   "outputs": [
    {
     "data": {
      "text/plain": [
       "4"
      ]
     },
     "execution_count": 56,
     "metadata": {},
     "output_type": "execute_result"
    }
   ],
   "source": [
    "len(x)"
   ]
  },
  {
   "cell_type": "code",
   "execution_count": 57,
   "metadata": {},
   "outputs": [
    {
     "data": {
      "text/plain": [
       "['A004917',\n",
       " 'Tan Catherine',\n",
       " 'General Insurance',\n",
       " 'Primary Principal:  China Taiping Insurance (Singapore) Pte LtdPayment Type:  Credit']"
      ]
     },
     "execution_count": 57,
     "metadata": {},
     "output_type": "execute_result"
    }
   ],
   "source": [
    "x"
   ]
  },
  {
   "cell_type": "code",
   "execution_count": 59,
   "metadata": {},
   "outputs": [
    {
     "data": {
      "text/plain": [
       "6"
      ]
     },
     "execution_count": 59,
     "metadata": {},
     "output_type": "execute_result"
    }
   ],
   "source": [
    "len(y)"
   ]
  },
  {
   "cell_type": "code",
   "execution_count": 58,
   "metadata": {},
   "outputs": [
    {
     "data": {
      "text/plain": [
       "['Tan Catherine',\n",
       " 'Non-Life (General Insurance Agents)',\n",
       " 'Tan Chek Hwen, Justin',\n",
       " 'Non-Life (General Insurance Agents)',\n",
       " 'ANG HUI PING (HONG HUIPING)',\n",
       " 'Non-Life (General Insurance Agents)']"
      ]
     },
     "execution_count": 58,
     "metadata": {},
     "output_type": "execute_result"
    }
   ],
   "source": [
    "y"
   ]
  },
  {
   "cell_type": "code",
   "execution_count": null,
   "metadata": {},
   "outputs": [],
   "source": []
  }
 ],
 "metadata": {
  "kernelspec": {
   "display_name": "Python 3",
   "language": "python",
   "name": "python3"
  },
  "language_info": {
   "codemirror_mode": {
    "name": "ipython",
    "version": 3
   },
   "file_extension": ".py",
   "mimetype": "text/x-python",
   "name": "python",
   "nbconvert_exporter": "python",
   "pygments_lexer": "ipython3",
   "version": "3.7.3"
  }
 },
 "nbformat": 4,
 "nbformat_minor": 2
}
